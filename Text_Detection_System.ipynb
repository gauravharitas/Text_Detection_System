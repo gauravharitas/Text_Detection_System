{
 "cells": [
  {
   "cell_type": "code",
   "execution_count": null,
   "id": "f75601d2",
   "metadata": {},
   "outputs": [],
   "source": [
    "import easyocr\n",
    "import cv2\n",
    "import pandas as pd\n",
    "import matplotlib.pyplot as plt\n",
    "import pytesseract"
   ]
  },
  {
   "cell_type": "code",
   "execution_count": null,
   "id": "0cc3671e",
   "metadata": {},
   "outputs": [],
   "source": [
    "\n",
    "\n",
    "\n",
    "collect = [\n",
    "    \"1.jpg\",\n",
    "    \"2.jpg\",\n",
    "    \"3.jpg\",\n",
    "]\n",
    "images = [ str(i) for i in collect]\n",
    "\n",
    "print(images)\n",
    "df = pd.DataFrame()\n",
    "for i in images:\n",
    "    \n",
    "    \n",
    "    if i == '2.jpg':        \n",
    "\n",
    "        reader = easyocr.Reader(['en'], gpu = True)\n",
    "        img = cv2.imread(i)\n",
    "\n",
    "        img = cv2.resize(img, (600, 300))\n",
    "\n",
    "\n",
    "        res = reader.readtext(img, detail = 0, paragraph = True)\n",
    "\n",
    "        df = pd.DataFrame(res)\n",
    "\n",
    "        f = open(f\"recognized{i}.txt\", \"w\")\n",
    "        print(\"Now writing file 2.jpg\")\n",
    "\n",
    "        for i in range(0, len(df[0])):\n",
    "            \n",
    "            f.write(df.iloc[i,0])\n",
    "            f.write(\"\\n\")\n",
    "\n",
    "        f.close()\n",
    "\n",
    "    else:\n",
    "\n",
    "        print(f\"Now writing file {i}\")\n",
    "        img = cv2.imread(i)\n",
    "\n",
    "        img = cv2.resize(img, (600, 360))\n",
    "\n",
    "        data = pytesseract.image_to_string(img)\n",
    "\n",
    "\n",
    "        f = open(f\"recognized{i}.txt\", \"w\")\n",
    "\n",
    "\n",
    "        f.write(str(data))\n",
    "        f.write(\"\\n\")\n",
    "\n",
    "        f.close()\n",
    "\n"
   ]
  }
 ],
 "metadata": {
  "kernelspec": {
   "display_name": "Python 3 (ipykernel)",
   "language": "python",
   "name": "python3"
  },
  "language_info": {
   "codemirror_mode": {
    "name": "ipython",
    "version": 3
   },
   "file_extension": ".py",
   "mimetype": "text/x-python",
   "name": "python",
   "nbconvert_exporter": "python",
   "pygments_lexer": "ipython3",
   "version": "3.9.7"
  }
 },
 "nbformat": 4,
 "nbformat_minor": 5
}
